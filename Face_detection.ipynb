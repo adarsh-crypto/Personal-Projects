{
 "cells": [
  {
   "cell_type": "code",
   "execution_count": 3,
   "metadata": {},
   "outputs": [
    {
     "ename": "error",
     "evalue": "OpenCV(4.5.5) D:\\a\\opencv-python\\opencv-python\\opencv\\modules\\objdetect\\src\\cascadedetect.cpp:1689: error: (-215:Assertion failed) !empty() in function 'cv::CascadeClassifier::detectMultiScale'\n",
     "output_type": "error",
     "traceback": [
      "\u001b[1;31m---------------------------------------------------------------------------\u001b[0m",
      "\u001b[1;31merror\u001b[0m                                     Traceback (most recent call last)",
      "\u001b[1;32mc:\\Users\\sinha\\Python\\.ipynb_checkpoints\\Edge AI\\Face_detection.ipynb Cell 1'\u001b[0m in \u001b[0;36m<module>\u001b[1;34m\u001b[0m\n\u001b[0;32m     <a href='vscode-notebook-cell:/c%3A/Users/sinha/Python/.ipynb_checkpoints/Edge%20AI/Face_detection.ipynb#ch0000000?line=32'>33</a>\u001b[0m (_, im) \u001b[39m=\u001b[39m webcam\u001b[39m.\u001b[39mread()\n\u001b[0;32m     <a href='vscode-notebook-cell:/c%3A/Users/sinha/Python/.ipynb_checkpoints/Edge%20AI/Face_detection.ipynb#ch0000000?line=33'>34</a>\u001b[0m gray \u001b[39m=\u001b[39m cv2\u001b[39m.\u001b[39mcvtColor(im, cv2\u001b[39m.\u001b[39mCOLOR_BGR2GRAY)\n\u001b[1;32m---> <a href='vscode-notebook-cell:/c%3A/Users/sinha/Python/.ipynb_checkpoints/Edge%20AI/Face_detection.ipynb#ch0000000?line=34'>35</a>\u001b[0m faces \u001b[39m=\u001b[39m face_cascade\u001b[39m.\u001b[39;49mdetectMultiScale(gray, \u001b[39m1.3\u001b[39;49m, \u001b[39m4\u001b[39;49m)\n\u001b[0;32m     <a href='vscode-notebook-cell:/c%3A/Users/sinha/Python/.ipynb_checkpoints/Edge%20AI/Face_detection.ipynb#ch0000000?line=35'>36</a>\u001b[0m \u001b[39mfor\u001b[39;00m (x, y, w, h) \u001b[39min\u001b[39;00m faces:\n\u001b[0;32m     <a href='vscode-notebook-cell:/c%3A/Users/sinha/Python/.ipynb_checkpoints/Edge%20AI/Face_detection.ipynb#ch0000000?line=36'>37</a>\u001b[0m \tcv2\u001b[39m.\u001b[39mrectangle(im, (x, y), (x \u001b[39m+\u001b[39m w, y \u001b[39m+\u001b[39m h), (\u001b[39m255\u001b[39m, \u001b[39m0\u001b[39m, \u001b[39m0\u001b[39m), \u001b[39m2\u001b[39m)\n",
      "\u001b[1;31merror\u001b[0m: OpenCV(4.5.5) D:\\a\\opencv-python\\opencv-python\\opencv\\modules\\objdetect\\src\\cascadedetect.cpp:1689: error: (-215:Assertion failed) !empty() in function 'cv::CascadeClassifier::detectMultiScale'\n"
     ]
    }
   ],
   "source": [
    "# Creating database\n",
    "# It captures images and stores them in datasets\n",
    "# folder under the folder name of sub_data\n",
    "import cv2, sys, numpy, os\n",
    "haar_file = 'haarcascade_frontalface_default.xml'\n",
    "\n",
    "# All the faces data will be\n",
    "# present this folder\n",
    "datasets = 'datasets'\n",
    "\n",
    "\n",
    "# These are sub data sets of folder,\n",
    "# for my faces I've used my name you can\n",
    "# change the label here\n",
    "sub_data = 'Adarsh'\t\n",
    "\n",
    "path = os.path.join(datasets, sub_data)\n",
    "if not os.path.isdir(path):\n",
    "\tos.mkdir(path)\n",
    "\n",
    "# defining the size of images\n",
    "(width, height) = (130, 100)\n",
    "\n",
    "#'0' is used for my webcam,\n",
    "# if you've any other camera\n",
    "# attached use '1' like this\n",
    "face_cascade = cv2.CascadeClassifier(haar_file)\n",
    "webcam = cv2.VideoCapture(0)\n",
    "\n",
    "# The program loops until it has 30 images of the face.\n",
    "count = 1\n",
    "while count < 30:\n",
    "\t(_, im) = webcam.read()\n",
    "\tgray = cv2.cvtColor(im, cv2.COLOR_BGR2GRAY)\n",
    "\tfaces = face_cascade.detectMultiScale(gray, 1.3, 4)\n",
    "\tfor (x, y, w, h) in faces:\n",
    "\t\tcv2.rectangle(im, (x, y), (x + w, y + h), (255, 0, 0), 2)\n",
    "\t\tface = gray[y:y + h, x:x + w]\n",
    "\t\tface_resize = cv2.resize(face, (width, height))\n",
    "\t\tcv2.imwrite('% s/% s.png' % (path, count), face_resize)\n",
    "\tcount += 1\n",
    "\t\n",
    "\tcv2.imshow('OpenCV', im)\n",
    "\tkey = cv2.waitKey(10)\n",
    "\tif key == 27:\n",
    "\t\tbreak\n"
   ]
  },
  {
   "cell_type": "code",
   "execution_count": 1,
   "metadata": {},
   "outputs": [
    {
     "name": "stdout",
     "output_type": "stream",
     "text": [
      "Recognizing Face Please Be in sufficient Lights...\n"
     ]
    },
    {
     "ename": "AttributeError",
     "evalue": "module 'cv2' has no attribute 'face'",
     "output_type": "error",
     "traceback": [
      "\u001b[1;31m---------------------------------------------------------------------------\u001b[0m",
      "\u001b[1;31mAttributeError\u001b[0m                            Traceback (most recent call last)",
      "\u001b[1;32mc:\\Users\\sinha\\Python\\.ipynb_checkpoints\\Edge AI\\Adarsh_102083015(Face_detection).ipynb Cell 2'\u001b[0m in \u001b[0;36m<module>\u001b[1;34m\u001b[0m\n\u001b[0;32m     <a href='vscode-notebook-cell:/c%3A/Users/sinha/Python/.ipynb_checkpoints/Edge%20AI/Adarsh_102083015%28Face_detection%29.ipynb#ch0000001?line=24'>25</a>\u001b[0m (images, labels) \u001b[39m=\u001b[39m [numpy\u001b[39m.\u001b[39marray(lis) \u001b[39mfor\u001b[39;00m lis \u001b[39min\u001b[39;00m [images, labels]]\n\u001b[0;32m     <a href='vscode-notebook-cell:/c%3A/Users/sinha/Python/.ipynb_checkpoints/Edge%20AI/Adarsh_102083015%28Face_detection%29.ipynb#ch0000001?line=26'>27</a>\u001b[0m \u001b[39m# OpenCV trains a model from the images\u001b[39;00m\n\u001b[0;32m     <a href='vscode-notebook-cell:/c%3A/Users/sinha/Python/.ipynb_checkpoints/Edge%20AI/Adarsh_102083015%28Face_detection%29.ipynb#ch0000001?line=27'>28</a>\u001b[0m \u001b[39m# NOTE FOR OpenCV2: remove '.face'\u001b[39;00m\n\u001b[1;32m---> <a href='vscode-notebook-cell:/c%3A/Users/sinha/Python/.ipynb_checkpoints/Edge%20AI/Adarsh_102083015%28Face_detection%29.ipynb#ch0000001?line=28'>29</a>\u001b[0m model \u001b[39m=\u001b[39m cv2\u001b[39m.\u001b[39;49mface\u001b[39m.\u001b[39mLBPHFaceRecognizer_create()\n\u001b[0;32m     <a href='vscode-notebook-cell:/c%3A/Users/sinha/Python/.ipynb_checkpoints/Edge%20AI/Adarsh_102083015%28Face_detection%29.ipynb#ch0000001?line=29'>30</a>\u001b[0m model\u001b[39m.\u001b[39mtrain(images, labels)\n\u001b[0;32m     <a href='vscode-notebook-cell:/c%3A/Users/sinha/Python/.ipynb_checkpoints/Edge%20AI/Adarsh_102083015%28Face_detection%29.ipynb#ch0000001?line=31'>32</a>\u001b[0m \u001b[39m# Part 2: Use fisherRecognizer on camera stream\u001b[39;00m\n",
      "\u001b[1;31mAttributeError\u001b[0m: module 'cv2' has no attribute 'face'"
     ]
    }
   ],
   "source": [
    "# It helps in identifying the faces\n",
    "import cv2, sys, numpy, os\n",
    "size = 4\n",
    "haar_file = 'haarcascade_frontalface_default.xml'\n",
    "datasets = 'datasets'\n",
    "\n",
    "# Part 1: Create fisherRecognizer\n",
    "print('Recognizing Face Please Be in sufficient Lights...')\n",
    "\n",
    "# Create a list of images and a list of corresponding names\n",
    "(images, labels, names, id) = ([], [], {}, 0)\n",
    "for (subdirs, dirs, files) in os.walk(datasets):\n",
    "\tfor subdir in dirs:\n",
    "\t\tnames[id] = subdir\n",
    "\t\tsubjectpath = os.path.join(datasets, subdir)\n",
    "\t\tfor filename in os.listdir(subjectpath):\n",
    "\t\t\tpath = subjectpath + '/' + filename\n",
    "\t\t\tlabel = id\n",
    "\t\t\timages.append(cv2.imread(path, 0))\n",
    "\t\t\tlabels.append(int(label))\n",
    "\t\tid += 1\n",
    "(width, height) = (130, 100)\n",
    "\n",
    "# Create a Numpy array from the two lists above\n",
    "(images, labels) = [numpy.array(lis) for lis in [images, labels]]\n",
    "\n",
    "# OpenCV trains a model from the images\n",
    "# NOTE FOR OpenCV2: remove '.face'\n",
    "model = cv2.face.LBPHFaceRecognizer_create()\n",
    "model.train(images, labels)\n",
    "\n",
    "# Part 2: Use fisherRecognizer on camera stream\n",
    "face_cascade = cv2.CascadeClassifier(haar_file)\n",
    "webcam = cv2.VideoCapture(0)\n",
    "while True:\n",
    "\t(_, im) = webcam.read()\n",
    "\tgray = cv2.cvtColor(im, cv2.COLOR_BGR2GRAY)\n",
    "\tfaces = face_cascade.detectMultiScale(gray, 1.3, 5)\n",
    "\tfor (x, y, w, h) in faces:\n",
    "\t\tcv2.rectangle(im, (x, y), (x + w, y + h), (255, 0, 0), 2)\n",
    "\t\tface = gray[y:y + h, x:x + w]\n",
    "\t\tface_resize = cv2.resize(face, (width, height))\n",
    "\t\t# Try to recognize the face\n",
    "\t\tprediction = model.predict(face_resize)\n",
    "\t\tcv2.rectangle(im, (x, y), (x + w, y + h), (0, 255, 0), 3)\n",
    "\n",
    "\t\tif prediction[1]<500:\n",
    "\n",
    "                    cv2.putText(im, '% s - %.0f' %\n",
    "(names[prediction[0]], prediction[1]), (x-10, y-10),\n",
    "cv2.FONT_HERSHEY_PLAIN, 1, (0, 255, 0))\n",
    "\t\t\n",
    "  \n",
    "else:\n",
    "\t\tcv2.putText(im, 'not recognized',\n",
    "(x-10, y-10), cv2.FONT_HERSHEY_PLAIN, 1, (0, 255, 0))\n",
    "\n",
    "cv2.imshow('OpenCV', im)\n",
    "\t\n",
    "key = cv2.waitKey(10)\n",
    "if key == 27:\n",
    "    print(0)"
   ]
  },
  {
   "cell_type": "code",
   "execution_count": null,
   "metadata": {},
   "outputs": [],
   "source": []
  }
 ],
 "metadata": {
  "interpreter": {
   "hash": "05b2657630491085f8afbfdf2bfd0491452bae39dfa118b08ac6e00cdce9e088"
  },
  "kernelspec": {
   "display_name": "Python 3.10.4 64-bit",
   "language": "python",
   "name": "python3"
  },
  "language_info": {
   "codemirror_mode": {
    "name": "ipython",
    "version": 3
   },
   "file_extension": ".py",
   "mimetype": "text/x-python",
   "name": "python",
   "nbconvert_exporter": "python",
   "pygments_lexer": "ipython3",
   "version": "3.10.4"
  },
  "orig_nbformat": 4
 },
 "nbformat": 4,
 "nbformat_minor": 2
}
